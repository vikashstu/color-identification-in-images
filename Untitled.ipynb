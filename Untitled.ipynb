{
 "cells": [
  {
   "cell_type": "code",
   "execution_count": null,
   "id": "8fa6ec46",
   "metadata": {},
   "outputs": [],
   "source": [
    "import cv2\n",
    "import pandas as pd\n",
    "img_path =r'colors2.jpg'\n",
    "img=cv2.imread(img_path)\n",
    "clicked= False \n",
    "r=g=b=x_pos=y_pos=0\n",
    "index=[\"color\",\"color_name\",\"hex\",\"R\",\"G\",\"B\"]\n",
    "csv=pd.read_csv('colors.csv', names=index,header=None)\n",
    "def get_color_name(R,G,B):\n",
    "    minimum=10000\n",
    "    for i in range(len(csv)):\n",
    "        d=abs(R-int(csv.loc[i,\"R\"]))+abs(G- int(csv.loc[i,\"G\"]))+abs(B-int(csv.loc[i,\"B\"]))\n",
    "        if d <= minimum:\n",
    "            minimum=d\n",
    "            cname=csv.loc[i,\"color_name\"]\n",
    "    return cname\n",
    "\n",
    "def draw_function(event,x,y,flags,param):\n",
    "    if event == cv2.EVENT_LBUTTONDBLCLK:\n",
    "        global b,g,r,x_pos,y_pos,clicked\n",
    "        clicked=True\n",
    "        x_pos=x\n",
    "        y_pos=y\n",
    "        b,g,r=img[y,x]\n",
    "        b=int(b)\n",
    "        g=int(g)\n",
    "        r=int(r)\n",
    "cv2.namedWindow('image')\n",
    "cv2.setMouseCallback('image',draw_function)\n",
    "while True:\n",
    "    cv2.imshow(\"image\",img)\n",
    "    if clicked:\n",
    "        cv2.rectangle(img,(20,20),(750,60),(b,g,r),-1)\n",
    "        text =get_color_name(r,g,b)+'R='+str(r)+'G='+str(g)+'B='+str(b)\n",
    "        cv2.putText(img,text,(50,50),2,0.8,(255,255,255),2,cv2.LINE_AA)\n",
    "        if r+g+b>=600:\n",
    "            cv2.putText(img,text,(50,50),2,0.8,(0,0,0),2,cv2.LINE_AA)\n",
    "        clicked=False\n",
    "    if cv2.waitKey(20)&0xFF==27:\n",
    "        break\n",
    "cv2.destroyAllwindows()\n",
    "    \n"
   ]
  },
  {
   "cell_type": "code",
   "execution_count": null,
   "id": "7cb706e5",
   "metadata": {},
   "outputs": [],
   "source": []
  },
  {
   "cell_type": "code",
   "execution_count": null,
   "id": "7c965e48",
   "metadata": {},
   "outputs": [],
   "source": []
  }
 ],
 "metadata": {
  "kernelspec": {
   "display_name": "Python 3",
   "language": "python",
   "name": "python3"
  },
  "language_info": {
   "codemirror_mode": {
    "name": "ipython",
    "version": 3
   },
   "file_extension": ".py",
   "mimetype": "text/x-python",
   "name": "python",
   "nbconvert_exporter": "python",
   "pygments_lexer": "ipython3",
   "version": "3.8.8"
  }
 },
 "nbformat": 4,
 "nbformat_minor": 5
}
